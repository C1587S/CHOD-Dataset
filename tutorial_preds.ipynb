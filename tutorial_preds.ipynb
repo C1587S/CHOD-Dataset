{
 "cells": [
  {
   "cell_type": "markdown",
   "id": "06e59d37-96cd-4575-8b93-dcce22b4b8b5",
   "metadata": {},
   "source": [
    "## Tutorial on how to use ELQEntityLinking model using text descriptions"
   ]
  },
  {
   "cell_type": "code",
   "execution_count": 1,
   "id": "9c5e2b66-f628-4307-bf7d-0da6a12a54bb",
   "metadata": {},
   "outputs": [],
   "source": [
    "## imports\n",
    "import os\n",
    "from pprint import pprint\n",
    "from time import time\n",
    "from elqel.entity_linking import ELQEntityLinker\n",
    "\n",
    "## parameters\n",
    "biencoder_path = \"./biencoder/pytorch_model.bin\"\n",
    "models_path = \"./models/\"\n",
    "annotations_dir = \"./ann_preds\" # directory to save predictions"
   ]
  },
  {
   "cell_type": "markdown",
   "id": "285bd279-2a41-4bab-8b50-14ff80889ca2",
   "metadata": {},
   "source": [
    "## Example"
   ]
  },
  {
   "cell_type": "markdown",
   "id": "a2336286-e986-49aa-9014-c69b33dbb209",
   "metadata": {},
   "source": [
    "To produce predictions, ELQ requires text inputs as lists of dictionaries in `python`-format, as in the example provided below:"
   ]
  },
  {
   "cell_type": "code",
   "execution_count": 2,
   "id": "c94b5124-c399-4c90-a997-c72972f4218f",
   "metadata": {},
   "outputs": [],
   "source": [
    "# data to annotate \n",
    "data_example = [{\n",
    "    \"id\": \"BM-A_1936-1012-44\",\n",
    "    \"text\": \"Figure (woman) wearing Rainbow Dance costume. Made of red, black, blue, gold painted earthenware.\".lower(),\n",
    "},\n",
    "\n",
    "    {\n",
    "    \"id\": \"BM-A_1940-0716-13\",\n",
    "    \"text\": \"Figure (Gaṇesa). Folk deity, seated feet crossed holding 2 lotuses. Made of bronze.\".lower(),\n",
    "}\n",
    "]\n",
    "\n",
    "# directory to store annotations\n",
    "if not os.path.exists(annotations_dir):\n",
    "    os.makedirs(annotations_dir)"
   ]
  },
  {
   "cell_type": "markdown",
   "id": "c801a716-b361-4c5e-b381-04c4768204af",
   "metadata": {
    "tags": []
   },
   "source": [
    "Once input data is properly formatted, predictions can be obtained as follows:"
   ]
  },
  {
   "cell_type": "code",
   "execution_count": 3,
   "id": "b4f4825a-0ceb-41e7-8750-c13c085b4e3c",
   "metadata": {},
   "outputs": [
    {
     "name": "stdout",
     "output_type": "stream",
     "text": [
      "Loading biencoder model\n",
      "Loading candidate entities\n",
      "Loading id2title\n",
      "Loading id2text\n",
      "Loading id2wikidata\n"
     ]
    }
   ],
   "source": [
    "# instantiate model\n",
    "elq_model = ELQEntityLinker(models_path=models_path,\n",
    "                            biencoder_path=biencoder_path,\n",
    "                            prediction_type=\"unique\")"
   ]
  },
  {
   "cell_type": "code",
   "execution_count": 4,
   "id": "f9dc40a3-9a5c-46b7-8bb2-fb607c450e0a",
   "metadata": {},
   "outputs": [
    {
     "name": "stderr",
     "output_type": "stream",
     "text": [
      "100%|████████████████████████████████████████████████████████████████████████████████████████████████████████████████████████████████████████| 1/1 [00:00<00:00,  3.33it/s]"
     ]
    },
    {
     "name": "stdout",
     "output_type": "stream",
     "text": [
      "Prediction type: unique\n",
      "\u001b[32mAnnotations (raw) saved: False\u001b[0m\n"
     ]
    },
    {
     "name": "stderr",
     "output_type": "stream",
     "text": [
      "\n"
     ]
    }
   ],
   "source": [
    "# predict\n",
    "predictions = elq_model.entity_linking(data_example)"
   ]
  },
  {
   "cell_type": "markdown",
   "id": "cdfe6135-d3a2-4a61-b537-726c6cfdc239",
   "metadata": {},
   "source": [
    "**Predictions Raw format example**\n",
    "\n",
    "The example below shows the raw format output of the model predictions.\n",
    "\n",
    "- `id` (str): unique text identifier\n",
    "- `pred_triples` (list of tuples): Each tuple contains wikipedia_id, and indicates the tagged item using start and end tokens\n",
    "- `pred_tuples_string` (list of lists): Each sublist contains linked aat title and tagged item (str), respectively\n",
    "- `scores` (list of floats): List of scores for the best candidate for each tagged item\n",
    "- `text` (str): text being annotated\n",
    "- `tokens` tokens (list of ints): tokenized text"
   ]
  },
  {
   "cell_type": "code",
   "execution_count": 5,
   "id": "385ac410-78d9-4ce2-8376-8d9e4e5cf068",
   "metadata": {},
   "outputs": [
    {
     "name": "stdout",
     "output_type": "stream",
     "text": [
      "{'id': 'BM-A_1936-1012-44',\n",
      " 'pred_triples': [('31871', 8, 9),\n",
      "                  ('30731', 19, 20),\n",
      "                  ('30193', 20, 23),\n",
      "                  ('64866', 1, 2)],\n",
      " 'pred_tuples_string': [['costume', 'costume'],\n",
      "                        ['painted', 'painted'],\n",
      "                        ['earthen ware', 'earthenware'],\n",
      "                        ['human figures', 'figure']],\n",
      " 'scores': [8.123689651489258,\n",
      "            5.847492218017578,\n",
      "            5.380870819091797,\n",
      "            4.930703163146973],\n",
      " 'text': 'figure (woman) wearing rainbow dance costume. made of red, black, '\n",
      "         'blue, gold painted earthenware.',\n",
      " 'tokens': [101,\n",
      "            3275,\n",
      "            1006,\n",
      "            2450,\n",
      "            1007,\n",
      "            4147,\n",
      "            10098,\n",
      "            3153,\n",
      "            9427,\n",
      "            1012,\n",
      "            2081,\n",
      "            1997,\n",
      "            2417,\n",
      "            1010,\n",
      "            2304,\n",
      "            1010,\n",
      "            2630,\n",
      "            1010,\n",
      "            2751,\n",
      "            4993,\n",
      "            3011,\n",
      "            2368,\n",
      "            8059,\n",
      "            1012,\n",
      "            102]}\n"
     ]
    }
   ],
   "source": [
    "pprint(predictions[0])"
   ]
  },
  {
   "cell_type": "markdown",
   "id": "60de5190-6ed9-406d-8dfe-c262444cf1a1",
   "metadata": {},
   "source": [
    "To convert predictions to a pandas DataFrame format, use the `preds2dataframe` method:"
   ]
  },
  {
   "cell_type": "code",
   "execution_count": 6,
   "id": "c2d990ec-7a75-4276-aa5e-604f9ea4029f",
   "metadata": {},
   "outputs": [
    {
     "name": "stdout",
     "output_type": "stream",
     "text": [
      "\u001b[32mAnnotations (DF) saved: ./ann_preds/predictions_df.csv\u001b[0m\n"
     ]
    },
    {
     "data": {
      "text/html": [
       "<div>\n",
       "<style scoped>\n",
       "    .dataframe tbody tr th:only-of-type {\n",
       "        vertical-align: middle;\n",
       "    }\n",
       "\n",
       "    .dataframe tbody tr th {\n",
       "        vertical-align: top;\n",
       "    }\n",
       "\n",
       "    .dataframe thead th {\n",
       "        text-align: right;\n",
       "    }\n",
       "</style>\n",
       "<table border=\"1\" class=\"dataframe\">\n",
       "  <thead>\n",
       "    <tr style=\"text-align: right;\">\n",
       "      <th></th>\n",
       "      <th>id</th>\n",
       "      <th>text</th>\n",
       "      <th>chunk_text</th>\n",
       "      <th>chunk_start</th>\n",
       "      <th>chunk_end</th>\n",
       "      <th>aat</th>\n",
       "    </tr>\n",
       "  </thead>\n",
       "  <tbody>\n",
       "    <tr>\n",
       "      <th>0</th>\n",
       "      <td>BM-A_1936-1012-44</td>\n",
       "      <td>figure (woman) wearing rainbow dance costume. ...</td>\n",
       "      <td>figure</td>\n",
       "      <td>0</td>\n",
       "      <td>6</td>\n",
       "      <td>300404114</td>\n",
       "    </tr>\n",
       "    <tr>\n",
       "      <th>1</th>\n",
       "      <td>BM-A_1936-1012-44</td>\n",
       "      <td>figure (woman) wearing rainbow dance costume. ...</td>\n",
       "      <td>costume</td>\n",
       "      <td>37</td>\n",
       "      <td>44</td>\n",
       "      <td>300178802</td>\n",
       "    </tr>\n",
       "    <tr>\n",
       "      <th>2</th>\n",
       "      <td>BM-A_1936-1012-44</td>\n",
       "      <td>figure (woman) wearing rainbow dance costume. ...</td>\n",
       "      <td>painted</td>\n",
       "      <td>77</td>\n",
       "      <td>84</td>\n",
       "      <td>300161986</td>\n",
       "    </tr>\n",
       "    <tr>\n",
       "      <th>3</th>\n",
       "      <td>BM-A_1936-1012-44</td>\n",
       "      <td>figure (woman) wearing rainbow dance costume. ...</td>\n",
       "      <td>earthenware</td>\n",
       "      <td>85</td>\n",
       "      <td>96</td>\n",
       "      <td>300140803</td>\n",
       "    </tr>\n",
       "    <tr>\n",
       "      <th>4</th>\n",
       "      <td>BM-A_1940-0716-13</td>\n",
       "      <td>figure (ganesa). folk deity, seated feet cross...</td>\n",
       "      <td>figure</td>\n",
       "      <td>0</td>\n",
       "      <td>6</td>\n",
       "      <td>300189808</td>\n",
       "    </tr>\n",
       "    <tr>\n",
       "      <th>5</th>\n",
       "      <td>BM-A_1940-0716-13</td>\n",
       "      <td>figure (ganesa). folk deity, seated feet cross...</td>\n",
       "      <td>feet</td>\n",
       "      <td>36</td>\n",
       "      <td>40</td>\n",
       "      <td>300310200</td>\n",
       "    </tr>\n",
       "    <tr>\n",
       "      <th>6</th>\n",
       "      <td>BM-A_1940-0716-13</td>\n",
       "      <td>figure (ganesa). folk deity, seated feet cross...</td>\n",
       "      <td>bronze</td>\n",
       "      <td>76</td>\n",
       "      <td>82</td>\n",
       "      <td>300010957</td>\n",
       "    </tr>\n",
       "  </tbody>\n",
       "</table>\n",
       "</div>"
      ],
      "text/plain": [
       "                  id                                               text  \\\n",
       "0  BM-A_1936-1012-44  figure (woman) wearing rainbow dance costume. ...   \n",
       "1  BM-A_1936-1012-44  figure (woman) wearing rainbow dance costume. ...   \n",
       "2  BM-A_1936-1012-44  figure (woman) wearing rainbow dance costume. ...   \n",
       "3  BM-A_1936-1012-44  figure (woman) wearing rainbow dance costume. ...   \n",
       "4  BM-A_1940-0716-13  figure (ganesa). folk deity, seated feet cross...   \n",
       "5  BM-A_1940-0716-13  figure (ganesa). folk deity, seated feet cross...   \n",
       "6  BM-A_1940-0716-13  figure (ganesa). folk deity, seated feet cross...   \n",
       "\n",
       "    chunk_text  chunk_start  chunk_end        aat  \n",
       "0       figure            0          6  300404114  \n",
       "1      costume           37         44  300178802  \n",
       "2      painted           77         84  300161986  \n",
       "3  earthenware           85         96  300140803  \n",
       "4       figure            0          6  300189808  \n",
       "5         feet           36         40  300310200  \n",
       "6       bronze           76         82  300010957  "
      ]
     },
     "execution_count": 6,
     "metadata": {},
     "output_type": "execute_result"
    }
   ],
   "source": [
    "predictions_df = elq_model.preds2dataframe(save_path = os.path.join(annotations_dir, \"predictions_df.csv\")) \n",
    "predictions_df"
   ]
  },
  {
   "cell_type": "markdown",
   "id": "7fa10756-b86b-44e5-aa9c-3878221ae165",
   "metadata": {},
   "source": [
    "Using `\"multiple\"` as `prediction_type` in `ELQEntityLinker` will include information for the best candidates found by the model. An example is provided below."
   ]
  },
  {
   "cell_type": "code",
   "execution_count": 7,
   "id": "9890463f-4db2-4e47-9960-505e38284505",
   "metadata": {},
   "outputs": [
    {
     "name": "stdout",
     "output_type": "stream",
     "text": [
      "Loading biencoder model\n",
      "Loading candidate entities\n",
      "Loading id2title\n",
      "Loading id2text\n",
      "Loading id2wikidata\n"
     ]
    }
   ],
   "source": [
    "# instantiate model\n",
    "elq_model = ELQEntityLinker(models_path=models_path,\n",
    "                             biencoder_path=biencoder_path,\n",
    "                             prediction_type=\"multiple\")"
   ]
  },
  {
   "cell_type": "code",
   "execution_count": 8,
   "id": "bb72fcc8-534e-4136-852d-7cb941e35aee",
   "metadata": {},
   "outputs": [
    {
     "name": "stderr",
     "output_type": "stream",
     "text": [
      "100%|████████████████████████████████████████████████████████████████████████████████████████████████████████████████████████████████████████| 1/1 [00:00<00:00,  9.44it/s]"
     ]
    },
    {
     "name": "stdout",
     "output_type": "stream",
     "text": [
      "Prediction type: multiple\n",
      "\u001b[32mAnnotations (raw) saved: False\u001b[0m\n"
     ]
    },
    {
     "name": "stderr",
     "output_type": "stream",
     "text": [
      "\n"
     ]
    }
   ],
   "source": [
    "# entity linking\n",
    "predictions_mult = elq_model.entity_linking(data_example)"
   ]
  },
  {
   "cell_type": "markdown",
   "id": "0ef6400f-2bae-4017-8647-8066dc6ec4ba",
   "metadata": {},
   "source": [
    "**Predictions Raw format example**\n",
    "\n",
    "The example below shows the raw format output of the model predictions.\n",
    "\n",
    "- `id` (str): unique text identifier\n",
    "- `pred_triples` (list of tuples): Each tuple contains:\n",
    "        - wikipedia_ids for the best candidates\n",
    "        - tagged item using start and end tokens\n",
    "- `pred_tuples_string` (list of lists): Each sublist contains:\n",
    "        - list linked aat title for the best candidates \n",
    "        - tagged item (str)\n",
    "- `scores` (list of lists): Each list contains the list of scores for the best candidate for each tagged item\n",
    "- `text` (str): text being annotated\n",
    "- `tokens` tokens (list of ints): tokenized text"
   ]
  },
  {
   "cell_type": "code",
   "execution_count": 9,
   "id": "a9c5a097-1419-4d51-972b-a963c8d8f65f",
   "metadata": {},
   "outputs": [
    {
     "name": "stdout",
     "output_type": "stream",
     "text": [
      "{'id': 'BM-A_1936-1012-44',\n",
      " 'pred_triples': [(['64866',\n",
      "                    '33638',\n",
      "                    '68703',\n",
      "                    '58071',\n",
      "                    '48890',\n",
      "                    '23377',\n",
      "                    '44481',\n",
      "                    '65317',\n",
      "                    '34316',\n",
      "                    '23401'],\n",
      "                   1,\n",
      "                   2),\n",
      "                  (['31871',\n",
      "                    '56725',\n",
      "                    '40719',\n",
      "                    '56531',\n",
      "                    '23247',\n",
      "                    '56533',\n",
      "                    '38754',\n",
      "                    '56532',\n",
      "                    '38712',\n",
      "                    '33638'],\n",
      "                   8,\n",
      "                   9),\n",
      "                  (['30731',\n",
      "                    '25473',\n",
      "                    '25137',\n",
      "                    '64177',\n",
      "                    '58165',\n",
      "                    '30730',\n",
      "                    '24135',\n",
      "                    '25056',\n",
      "                    '43621',\n",
      "                    '61153'],\n",
      "                   19,\n",
      "                   20),\n",
      "                  (['30193',\n",
      "                    '30192',\n",
      "                    '7726',\n",
      "                    '65284',\n",
      "                    '10150',\n",
      "                    '59232',\n",
      "                    '27242',\n",
      "                    '25168',\n",
      "                    '43659',\n",
      "                    '46164'],\n",
      "                   20,\n",
      "                   23)],\n",
      " 'pred_tuples_string': [[['human figures',\n",
      "                          'figures',\n",
      "                          'religious figures',\n",
      "                          'full-length figures',\n",
      "                          'figure, colonial',\n",
      "                          'colossal figures',\n",
      "                          'mannequins',\n",
      "                          'seated figures',\n",
      "                          'figures',\n",
      "                          'figure sculpture'],\n",
      "                         'figure'],\n",
      "                        [['costume',\n",
      "                          'costumes',\n",
      "                          'costumes',\n",
      "                          'clothing',\n",
      "                          'dresses',\n",
      "                          'clothes',\n",
      "                          'church costume',\n",
      "                          'apparel',\n",
      "                          'ceremonial costume',\n",
      "                          'figures'],\n",
      "                         'costume'],\n",
      "                        [['painted',\n",
      "                          'painted',\n",
      "                          'plastered',\n",
      "                          'Painted Gray Ware',\n",
      "                          'painted glass',\n",
      "                          'painting',\n",
      "                          'stained',\n",
      "                          'japanned',\n",
      "                          'impressed',\n",
      "                          'chalked'],\n",
      "                         'painted'],\n",
      "                        [['earthen ware',\n",
      "                          'earthenware',\n",
      "                          'earthen',\n",
      "                          'unfired clay',\n",
      "                          'loam',\n",
      "                          'earthen architecture',\n",
      "                          'Lo-yang',\n",
      "                          'firing',\n",
      "                          'yellow ware',\n",
      "                          'Egyptian ware'],\n",
      "                         'earthenware']],\n",
      " 'scores': [array([  4.930703 ,   2.6839538, -15.285638 , -16.20388  , -17.68366  ,\n",
      "       -19.254704 , -19.662487 , -19.716608 , -19.982466 , -20.23141  ],\n",
      "      dtype=float32),\n",
      "            array([  8.12369  ,  -5.768317 ,  -9.112195 ,  -9.754723 , -13.716597 ,\n",
      "       -13.748551 , -14.099497 , -14.732893 , -15.7971325, -15.962132 ],\n",
      "      dtype=float32),\n",
      "            array([  5.847492 ,  -3.8339756, -12.88901  , -13.883591 , -14.256002 ,\n",
      "       -14.500349 , -15.515497 , -15.548767 , -15.713262 , -15.74386  ],\n",
      "      dtype=float32),\n",
      "            array([  5.380871,  -5.861523,  -8.729615,  -9.785963,  -9.974697,\n",
      "       -10.163517, -10.283402, -10.396537, -10.486839, -10.807236],\n",
      "      dtype=float32)],\n",
      " 'text': 'figure (woman) wearing rainbow dance costume. made of red, black, '\n",
      "         'blue, gold painted earthenware.',\n",
      " 'tokens': [101,\n",
      "            3275,\n",
      "            1006,\n",
      "            2450,\n",
      "            1007,\n",
      "            4147,\n",
      "            10098,\n",
      "            3153,\n",
      "            9427,\n",
      "            1012,\n",
      "            2081,\n",
      "            1997,\n",
      "            2417,\n",
      "            1010,\n",
      "            2304,\n",
      "            1010,\n",
      "            2630,\n",
      "            1010,\n",
      "            2751,\n",
      "            4993,\n",
      "            3011,\n",
      "            2368,\n",
      "            8059,\n",
      "            1012,\n",
      "            102]}\n"
     ]
    }
   ],
   "source": [
    "pprint(predictions_mult[0])"
   ]
  },
  {
   "cell_type": "code",
   "execution_count": 10,
   "id": "57613d70-f562-444c-9150-2f55458c1e50",
   "metadata": {},
   "outputs": [
    {
     "name": "stdout",
     "output_type": "stream",
     "text": [
      "\u001b[32mAnnotations (DF) saved: ./ann_preds/predictions_mult_df.csv\u001b[0m\n"
     ]
    },
    {
     "data": {
      "text/html": [
       "<div>\n",
       "<style scoped>\n",
       "    .dataframe tbody tr th:only-of-type {\n",
       "        vertical-align: middle;\n",
       "    }\n",
       "\n",
       "    .dataframe tbody tr th {\n",
       "        vertical-align: top;\n",
       "    }\n",
       "\n",
       "    .dataframe thead th {\n",
       "        text-align: right;\n",
       "    }\n",
       "</style>\n",
       "<table border=\"1\" class=\"dataframe\">\n",
       "  <thead>\n",
       "    <tr style=\"text-align: right;\">\n",
       "      <th></th>\n",
       "      <th>id</th>\n",
       "      <th>text</th>\n",
       "      <th>chunk_text</th>\n",
       "      <th>chunk_start</th>\n",
       "      <th>chunk_end</th>\n",
       "      <th>aat</th>\n",
       "      <th>aat_str</th>\n",
       "      <th>best_score</th>\n",
       "      <th>candidates</th>\n",
       "    </tr>\n",
       "  </thead>\n",
       "  <tbody>\n",
       "    <tr>\n",
       "      <th>0</th>\n",
       "      <td>BM-A_1936-1012-44</td>\n",
       "      <td>figure (woman) wearing rainbow dance costume. ...</td>\n",
       "      <td>figure</td>\n",
       "      <td>0</td>\n",
       "      <td>6</td>\n",
       "      <td>300404114</td>\n",
       "      <td>human figures</td>\n",
       "      <td>4.930703</td>\n",
       "      <td>{'300404114': ('human figures', 4.930703163146...</td>\n",
       "    </tr>\n",
       "    <tr>\n",
       "      <th>1</th>\n",
       "      <td>BM-A_1936-1012-44</td>\n",
       "      <td>figure (woman) wearing rainbow dance costume. ...</td>\n",
       "      <td>costume</td>\n",
       "      <td>37</td>\n",
       "      <td>44</td>\n",
       "      <td>300178802</td>\n",
       "      <td>costume</td>\n",
       "      <td>8.123690</td>\n",
       "      <td>{'300178802': ('costume', 8.123689651489258), ...</td>\n",
       "    </tr>\n",
       "    <tr>\n",
       "      <th>2</th>\n",
       "      <td>BM-A_1936-1012-44</td>\n",
       "      <td>figure (woman) wearing rainbow dance costume. ...</td>\n",
       "      <td>painted</td>\n",
       "      <td>77</td>\n",
       "      <td>84</td>\n",
       "      <td>300161986</td>\n",
       "      <td>painted</td>\n",
       "      <td>5.847492</td>\n",
       "      <td>{'300161986': ('painting', -14.500349044799805...</td>\n",
       "    </tr>\n",
       "    <tr>\n",
       "      <th>3</th>\n",
       "      <td>BM-A_1936-1012-44</td>\n",
       "      <td>figure (woman) wearing rainbow dance costume. ...</td>\n",
       "      <td>earthenware</td>\n",
       "      <td>85</td>\n",
       "      <td>96</td>\n",
       "      <td>300140803</td>\n",
       "      <td>earthen ware</td>\n",
       "      <td>5.380871</td>\n",
       "      <td>{'300140803': ('earthenware', -5.8615231513977...</td>\n",
       "    </tr>\n",
       "    <tr>\n",
       "      <th>4</th>\n",
       "      <td>BM-A_1940-0716-13</td>\n",
       "      <td>figure (ganesa). folk deity, seated feet cross...</td>\n",
       "      <td>figure</td>\n",
       "      <td>0</td>\n",
       "      <td>6</td>\n",
       "      <td>300189808</td>\n",
       "      <td>figures</td>\n",
       "      <td>10.217789</td>\n",
       "      <td>{'300189808': ('figures', 10.217788696289062),...</td>\n",
       "    </tr>\n",
       "    <tr>\n",
       "      <th>5</th>\n",
       "      <td>BM-A_1940-0716-13</td>\n",
       "      <td>figure (ganesa). folk deity, seated feet cross...</td>\n",
       "      <td>feet</td>\n",
       "      <td>36</td>\n",
       "      <td>40</td>\n",
       "      <td>300310200</td>\n",
       "      <td>foot</td>\n",
       "      <td>5.481364</td>\n",
       "      <td>{'300310200': ('feet', -10.685483932495117), '...</td>\n",
       "    </tr>\n",
       "    <tr>\n",
       "      <th>6</th>\n",
       "      <td>BM-A_1940-0716-13</td>\n",
       "      <td>figure (ganesa). folk deity, seated feet cross...</td>\n",
       "      <td>bronze</td>\n",
       "      <td>76</td>\n",
       "      <td>82</td>\n",
       "      <td>300010957</td>\n",
       "      <td>copper-tin alloy</td>\n",
       "      <td>10.927487</td>\n",
       "      <td>{'300010957': ('copper-tin alloy', 10.92748737...</td>\n",
       "    </tr>\n",
       "  </tbody>\n",
       "</table>\n",
       "</div>"
      ],
      "text/plain": [
       "                  id                                               text  \\\n",
       "0  BM-A_1936-1012-44  figure (woman) wearing rainbow dance costume. ...   \n",
       "1  BM-A_1936-1012-44  figure (woman) wearing rainbow dance costume. ...   \n",
       "2  BM-A_1936-1012-44  figure (woman) wearing rainbow dance costume. ...   \n",
       "3  BM-A_1936-1012-44  figure (woman) wearing rainbow dance costume. ...   \n",
       "4  BM-A_1940-0716-13  figure (ganesa). folk deity, seated feet cross...   \n",
       "5  BM-A_1940-0716-13  figure (ganesa). folk deity, seated feet cross...   \n",
       "6  BM-A_1940-0716-13  figure (ganesa). folk deity, seated feet cross...   \n",
       "\n",
       "    chunk_text  chunk_start  chunk_end        aat           aat_str  \\\n",
       "0       figure            0          6  300404114     human figures   \n",
       "1      costume           37         44  300178802           costume   \n",
       "2      painted           77         84  300161986           painted   \n",
       "3  earthenware           85         96  300140803      earthen ware   \n",
       "4       figure            0          6  300189808           figures   \n",
       "5         feet           36         40  300310200              foot   \n",
       "6       bronze           76         82  300010957  copper-tin alloy   \n",
       "\n",
       "   best_score                                         candidates  \n",
       "0    4.930703  {'300404114': ('human figures', 4.930703163146...  \n",
       "1    8.123690  {'300178802': ('costume', 8.123689651489258), ...  \n",
       "2    5.847492  {'300161986': ('painting', -14.500349044799805...  \n",
       "3    5.380871  {'300140803': ('earthenware', -5.8615231513977...  \n",
       "4   10.217789  {'300189808': ('figures', 10.217788696289062),...  \n",
       "5    5.481364  {'300310200': ('feet', -10.685483932495117), '...  \n",
       "6   10.927487  {'300010957': ('copper-tin alloy', 10.92748737...  "
      ]
     },
     "execution_count": 10,
     "metadata": {},
     "output_type": "execute_result"
    }
   ],
   "source": [
    "predictions_df_mult = elq_model.preds2dataframe(save_path = os.path.join(annotations_dir, \"predictions_mult_df.csv\"))\n",
    "predictions_df_mult"
   ]
  },
  {
   "cell_type": "code",
   "execution_count": null,
   "id": "61df59be-1eaf-4568-8aff-cfca575cb085",
   "metadata": {},
   "outputs": [],
   "source": []
  }
 ],
 "metadata": {
  "kernelspec": {
   "display_name": "Python 3 (ipykernel)",
   "language": "python",
   "name": "python3"
  },
  "language_info": {
   "codemirror_mode": {
    "name": "ipython",
    "version": 3
   },
   "file_extension": ".py",
   "mimetype": "text/x-python",
   "name": "python",
   "nbconvert_exporter": "python",
   "pygments_lexer": "ipython3",
   "version": "3.7.16"
  }
 },
 "nbformat": 4,
 "nbformat_minor": 5
}
